{
 "cells": [
  {
   "cell_type": "code",
   "execution_count": 8,
   "id": "cf4eb038",
   "metadata": {},
   "outputs": [],
   "source": [
    "def calculate_sample_size(population_size, confidence_level, margin_of_error):\n",
    "    if confidence_level == 90:\n",
    "        z_score = 1.64\n",
    "    elif confidence_level == 95:\n",
    "        z_score = 1.96\n",
    "    elif confidence_level == 99:\n",
    "        z_score = 2.58\n",
    "    else:\n",
    "        print(\"Unsupported confidence level. Please input a value of 90, 95, or 99.\")\n",
    "        return None\n",
    "    \n",
    "    # Specify the unknown proportion value\n",
    "    p = 0.5\n",
    "    \n",
    "    # Perform the calculation\n",
    "    sample_size = ((z_score * z_score * p * (1-p)) / (margin_of_error * margin_of_error))\n",
    "    return int(sample_size)\n"
   ]
  },
  {
   "cell_type": "code",
   "execution_count": 9,
   "id": "6c50a0a2",
   "metadata": {},
   "outputs": [],
   "source": [
    "def systematic_sample(population, sample_size):\n",
    "    interval = len(population) / sample_size\n",
    "    interval = round(interval)\n",
    "    \n",
    "    selected_elements = []\n",
    "    \n",
    "    for i in range (0, len(population), interval):\n",
    "        selected_elements.append(population[i])\n",
    "        \n",
    "    return selected_elements"
   ]
  },
  {
   "cell_type": "code",
   "execution_count": 11,
   "id": "fde66e78",
   "metadata": {},
   "outputs": [
    {
     "name": "stdout",
     "output_type": "stream",
     "text": [
      "Enter the population size: 1680000\n",
      "Enter the confidence level, ex. 90, 95, or 99: 99\n",
      "Enter the desired margin of error, ex. 0.05, 0.10: 0.10\n",
      "The calculated sample size was approximately 166\n",
      "Enter your desired sample size: 376\n",
      "The following elements were selected by systematic random sampling: \n",
      "[1, 10121, 20241, 30361, 40481, 50601, 60721, 70841, 80961, 91081, 101201, 111321, 121441, 131561, 141681, 151801, 161921, 172041, 182161, 192281, 202401, 212521, 222641, 232761, 242881, 253001, 263121, 273241, 283361, 293481, 303601, 313721, 323841, 333961, 344081, 354201, 364321, 374441, 384561, 394681, 404801, 414921, 425041, 435161, 445281, 455401, 465521, 475641, 485761, 495881, 506001, 516121, 526241, 536361, 546481, 556601, 566721, 576841, 586961, 597081, 607201, 617321, 627441, 637561, 647681, 657801, 667921, 678041, 688161, 698281, 708401, 718521, 728641, 738761, 748881, 759001, 769121, 779241, 789361, 799481, 809601, 819721, 829841, 839961, 850081, 860201, 870321, 880441, 890561, 900681, 910801, 920921, 931041, 941161, 951281, 961401, 971521, 981641, 991761, 1001881, 1012001, 1022121, 1032241, 1042361, 1052481, 1062601, 1072721, 1082841, 1092961, 1103081, 1113201, 1123321, 1133441, 1143561, 1153681, 1163801, 1173921, 1184041, 1194161, 1204281, 1214401, 1224521, 1234641, 1244761, 1254881, 1265001, 1275121, 1285241, 1295361, 1305481, 1315601, 1325721, 1335841, 1345961, 1356081, 1366201, 1376321, 1386441, 1396561, 1406681, 1416801, 1426921, 1437041, 1447161, 1457281, 1467401, 1477521, 1487641, 1497761, 1507881, 1518001, 1528121, 1538241, 1548361, 1558481, 1568601, 1578721, 1588841, 1598961, 1609081, 1619201, 1629321, 1639441, 1649561, 1659681, 1669801, 1679921]\n"
     ]
    }
   ],
   "source": [
    "# Getting user input\n",
    "population_size = int(input(\"Enter the population size: \"))\n",
    "confidence_level = int(input(\"Enter the confidence level, ex. 90, 95, or 99: \"))\n",
    "margin_of_error = float(input(\"Enter the desired margin of error, ex. 0.05, 0.10: \"))\n",
    "\n",
    "sample_size = calculate_sample_size(population_size, confidence_level, margin_of_error)\n",
    "\n",
    "print(\"The calculated sample size was approximately\", sample_size)\n",
    "\n",
    "user_sample_size = int(input(\"Enter your desired sample size: \"))\n",
    "\n",
    "maximum_sample_size = calculate_sample_size(population_size, 99, 0.01)\n",
    "\n",
    "if user_sample_size > maximum_sample_size:\n",
    "    print(\"Sorry, the requested sample size is most likely not feasible, please enter a different value.\")\n",
    "    \n",
    "else:\n",
    "    systematic_sample = systematic_sample(list(range(1, population_size + 1)), sample_size)\n",
    "    \n",
    "    print(\"The following elements were selected by systematic random sampling: \")\n",
    "    print(systematic_sample)"
   ]
  },
  {
   "cell_type": "code",
   "execution_count": null,
   "id": "305765dd",
   "metadata": {},
   "outputs": [],
   "source": []
  }
 ],
 "metadata": {
  "kernelspec": {
   "display_name": "Python 3 (ipykernel)",
   "language": "python",
   "name": "python3"
  },
  "language_info": {
   "codemirror_mode": {
    "name": "ipython",
    "version": 3
   },
   "file_extension": ".py",
   "mimetype": "text/x-python",
   "name": "python",
   "nbconvert_exporter": "python",
   "pygments_lexer": "ipython3",
   "version": "3.11.4"
  }
 },
 "nbformat": 4,
 "nbformat_minor": 5
}
